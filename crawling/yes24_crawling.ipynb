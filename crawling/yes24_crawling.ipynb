{
 "cells": [
  {
   "cell_type": "code",
   "execution_count": 1,
   "metadata": {},
   "outputs": [
    {
     "name": "stderr",
     "output_type": "stream",
     "text": [
      "/Users/mac/Library/Python/3.9/lib/python/site-packages/urllib3/__init__.py:35: NotOpenSSLWarning: urllib3 v2 only supports OpenSSL 1.1.1+, currently the 'ssl' module is compiled with 'LibreSSL 2.8.3'. See: https://github.com/urllib3/urllib3/issues/3020\n",
      "  warnings.warn(\n"
     ]
    },
    {
     "data": {
      "text/plain": [
       "'/Users/mac/.wdm/drivers/chromedriver/mac64/129.0.6668.100/chromedriver-mac-x64/chromedriver'"
      ]
     },
     "execution_count": 1,
     "metadata": {},
     "output_type": "execute_result"
    }
   ],
   "source": [
    "### 예스 24 크롤링 \n",
    "\n",
    "# webdriver-manager 라이브러리 불러오기\n",
    "from selenium import webdriver\n",
    "from webdriver_manager.chrome import ChromeDriverManager\n",
    "ChromeDriverManager().install()\n",
    "\n"
   ]
  },
  {
   "cell_type": "code",
   "execution_count": 6,
   "metadata": {},
   "outputs": [],
   "source": [
    "from selenium import webdriver\n",
    "browser = webdriver.Chrome()"
   ]
  },
  {
   "cell_type": "code",
   "execution_count": 8,
   "metadata": {},
   "outputs": [],
   "source": [
    "url = 'https://google.com'\n",
    "browser.get(url)"
   ]
  },
  {
   "cell_type": "code",
   "execution_count": 9,
   "metadata": {},
   "outputs": [
    {
     "data": {
      "text/plain": [
       "'대한민국'"
      ]
     },
     "execution_count": 9,
     "metadata": {},
     "output_type": "execute_result"
    }
   ],
   "source": [
    "from selenium.webdriver.common.by import By\n",
    "\n",
    "browser.find_element(By.CLASS_NAME, 'uU7dJb').text\n",
    "\n",
    "# <div class=\"uU7dJb\">대한민국</div> 의 text 가져오기"
   ]
  },
  {
   "cell_type": "code",
   "execution_count": 10,
   "metadata": {},
   "outputs": [],
   "source": [
    "## yes24 베스트셀러 크롤링 \n",
    "\n",
    "url = 'https://www.yes24.com/Product/category/bestseller?CategoryNumber=001&sumgb=06'\n",
    "browser.get(url)"
   ]
  },
  {
   "cell_type": "code",
   "execution_count": 11,
   "metadata": {},
   "outputs": [
    {
     "data": {
      "text/plain": [
       "'소년이 온다'"
      ]
     },
     "execution_count": 11,
     "metadata": {},
     "output_type": "execute_result"
    }
   ],
   "source": [
    "# 1페이지 링크 데이터 수집\n",
    "\n",
    "browser.find_element(By.CLASS_NAME, 'gd_name').text\n"
   ]
  },
  {
   "cell_type": "code",
   "execution_count": 12,
   "metadata": {},
   "outputs": [
    {
     "data": {
      "text/plain": [
       "'https://www.yes24.com/Product/Goods/13137546'"
      ]
     },
     "execution_count": 12,
     "metadata": {},
     "output_type": "execute_result"
    }
   ],
   "source": [
    "# 링크 한개 수집\n",
    "\n",
    "browser.find_element(By.CLASS_NAME, 'gd_name').get_attribute('href')"
   ]
  },
  {
   "cell_type": "code",
   "execution_count": 13,
   "metadata": {},
   "outputs": [
    {
     "name": "stdout",
     "output_type": "stream",
     "text": [
      "https://www.yes24.com/Product/Goods/13137546\n",
      "https://www.yes24.com/Product/Goods/108422348\n",
      "https://www.yes24.com/Product/Goods/103495056\n",
      "https://www.yes24.com/Product/Goods/60524285\n",
      "https://www.yes24.com/Product/Goods/11467936\n",
      "https://www.yes24.com/Product/Goods/5926713\n",
      "https://www.yes24.com/Product/Goods/119266745\n",
      "https://www.yes24.com/Product/Goods/3720621\n",
      "https://www.yes24.com/Product/Goods/133213071\n",
      "https://www.yes24.com/Product/Goods/66752481\n",
      "https://www.yes24.com/Product/Goods/2956444\n",
      "https://www.yes24.com/Product/Goods/57665662\n",
      "https://www.yes24.com/Product/Goods/125557465\n",
      "https://www.yes24.com/Product/Goods/104663596\n",
      "https://www.yes24.com/Product/Goods/131930939\n",
      "https://www.yes24.com/Product/Goods/134602629\n",
      "https://www.yes24.com/Product/Goods/66752479\n",
      "https://www.yes24.com/Product/Goods/66752465\n",
      "https://www.yes24.com/Product/Goods/133312039\n",
      "https://www.yes24.com/Product/Goods/119149162\n",
      "https://www.yes24.com/Product/Goods/250212\n",
      "https://www.yes24.com/Product/Goods/8759796\n",
      "https://www.yes24.com/Product/Goods/132560712\n",
      "https://www.yes24.com/Product/Goods/133870359\n"
     ]
    }
   ],
   "source": [
    "# 1페이지 전체의 링크 데이터 수집\n",
    "\n",
    "# browser.find_element(By.CLASS_NAME, 'gd_name')  # element: 요소\n",
    "datas = browser.find_elements(By.CLASS_NAME, 'gd_name') # elements: 리스트\n",
    "\n",
    "for i in datas:\n",
    "    print(i.get_attribute('href'))\n",
    "\n",
    "\n",
    "# <a class=\"gd_name\" href=\"/Product/Goods/133213071\" onclick=\"wiseLogV2('BS', '001_005_001', ''); \">트렌드 코리아 2025</a>\n"
   ]
  },
  {
   "cell_type": "code",
   "execution_count": 14,
   "metadata": {},
   "outputs": [
    {
     "name": "stdout",
     "output_type": "stream",
     "text": [
      "https://www.yes24.com/Product/Category/BestSeller?categoryNumber=001&pageNumber=1&pageSize=24\n",
      "https://www.yes24.com/Product/Category/BestSeller?categoryNumber=001&pageNumber=2&pageSize=24\n",
      "https://www.yes24.com/Product/Category/BestSeller?categoryNumber=001&pageNumber=3&pageSize=24\n"
     ]
    }
   ],
   "source": [
    "# 3페이지까지의 링크 데이터 수집\n",
    "# https://www.yes24.com/Product/Category/BestSeller?categoryNumber=001&pageNumber=1&pageSize=24\n",
    "# https://www.yes24.com/Product/Category/BestSeller?categoryNumber=001&pageNumber=2&pageSize=24\n",
    "# https://www.yes24.com/Product/Category/BestSeller?categoryNumber=001&pageNumber=3&pageSize=24\n",
    "\n",
    "for i in range(1,4):\n",
    "    url = f'https://www.yes24.com/Product/Category/BestSeller?categoryNumber=001&pageNumber={i}&pageSize=24'\n",
    "\n",
    "    print(url)"
   ]
  },
  {
   "cell_type": "code",
   "execution_count": 15,
   "metadata": {},
   "outputs": [
    {
     "name": "stdout",
     "output_type": "stream",
     "text": [
      "********** 현재 1페이지 수집중입니다. **********\n",
      "********** 현재 2페이지 수집중입니다. **********\n",
      "********** 현재 3페이지 수집중입니다. **********\n",
      "['https://www.yes24.com/Product/Goods/13137546', 'https://www.yes24.com/Product/Goods/108422348', 'https://www.yes24.com/Product/Goods/103495056', 'https://www.yes24.com/Product/Goods/60524285', 'https://www.yes24.com/Product/Goods/11467936', 'https://www.yes24.com/Product/Goods/5926713', 'https://www.yes24.com/Product/Goods/119266745', 'https://www.yes24.com/Product/Goods/3720621', 'https://www.yes24.com/Product/Goods/133213071', 'https://www.yes24.com/Product/Goods/66752481', 'https://www.yes24.com/Product/Goods/2956444', 'https://www.yes24.com/Product/Goods/57665662', 'https://www.yes24.com/Product/Goods/125557465', 'https://www.yes24.com/Product/Goods/104663596', 'https://www.yes24.com/Product/Goods/131930939', 'https://www.yes24.com/Product/Goods/134602629', 'https://www.yes24.com/Product/Goods/66752479', 'https://www.yes24.com/Product/Goods/66752465', 'https://www.yes24.com/Product/Goods/133312039', 'https://www.yes24.com/Product/Goods/119149162', 'https://www.yes24.com/Product/Goods/250212', 'https://www.yes24.com/Product/Goods/8759796', 'https://www.yes24.com/Product/Goods/132560712', 'https://www.yes24.com/Product/Goods/133870359', 'https://www.yes24.com/Product/Goods/133236068', 'https://www.yes24.com/Product/Goods/128266166', 'https://www.yes24.com/Product/Goods/117014613', 'https://www.yes24.com/Product/Goods/133308510', 'https://www.yes24.com/Product/Goods/133819525', 'https://www.yes24.com/Product/Goods/134214543', 'https://www.yes24.com/Product/Goods/124999476', 'https://www.yes24.com/Product/Goods/132565140', 'https://www.yes24.com/Product/Goods/42787367', 'https://www.yes24.com/Product/Goods/133199014', 'https://www.yes24.com/Product/Goods/262036', 'https://www.yes24.com/Product/Goods/133813184', 'https://www.yes24.com/Product/Goods/130174102', 'https://www.yes24.com/Product/Goods/124043812', 'https://www.yes24.com/Product/Goods/122120495', 'https://www.yes24.com/Product/Goods/124539805', 'https://www.yes24.com/Product/Goods/74971092', 'https://www.yes24.com/Product/Goods/124043802', 'https://www.yes24.com/Product/Goods/9112074', 'https://www.yes24.com/Product/Goods/116586303', 'https://www.yes24.com/Product/Goods/129602366', 'https://www.yes24.com/Product/Goods/102457889', 'https://www.yes24.com/Product/Goods/130500819', 'https://www.yes24.com/Product/Goods/110641272', 'https://www.yes24.com/Product/Goods/96547408', 'https://www.yes24.com/Product/Goods/118322901', 'https://www.yes24.com/Product/Goods/130135671', 'https://www.yes24.com/Product/Goods/121507789', 'https://www.yes24.com/Product/Goods/111680193', 'https://www.yes24.com/Product/Goods/134781605', 'https://www.yes24.com/Product/Goods/133277225', 'https://www.yes24.com/Product/Goods/76149026', 'https://www.yes24.com/Product/Goods/125492144', 'https://www.yes24.com/Product/Goods/133339464', 'https://www.yes24.com/Product/Goods/133811843', 'https://www.yes24.com/Product/Goods/118578901', 'https://www.yes24.com/Product/Goods/129094064', 'https://www.yes24.com/Product/Goods/132190133', 'https://www.yes24.com/Product/Goods/2492186', 'https://www.yes24.com/Product/Goods/128133897', 'https://www.yes24.com/Product/Goods/133819718', 'https://www.yes24.com/Product/Goods/129124029', 'https://www.yes24.com/Product/Goods/134021280', 'https://www.yes24.com/Product/Goods/104687898', 'https://www.yes24.com/Product/Goods/132970116', 'https://www.yes24.com/Product/Goods/109145992', 'https://www.yes24.com/Product/Goods/1387488', 'https://www.yes24.com/Product/Goods/134866210']\n"
     ]
    }
   ],
   "source": [
    "import time\n",
    "\n",
    "link_list = []    # 링크 수집을 위한 빈 리스트\n",
    "\n",
    "for i in range(1,4):\n",
    "    print(\"*\" * 10, f'현재 {i}페이지 수집중입니다.', \"*\" * 10)\n",
    "\n",
    "    url = f'https://www.yes24.com/Product/Category/BestSeller?categoryNumber=001&pageNumber={i}&pageSize=24'\n",
    "    browser.get(url)\n",
    "    \n",
    "    browser.find_element(By.CLASS_NAME, 'gd_name').get_attribute('href')\n",
    "    datas = browser.find_elements(By.CLASS_NAME, 'gd_name')\n",
    "\n",
    "    for i in datas:\n",
    "        link = i.get_attribute('href')\n",
    "        link_list.append(link)\n",
    "    \n",
    "    time.sleep(3)\n",
    "\n",
    "print(link_list)\n",
    "\n",
    "\n",
    "    "
   ]
  },
  {
   "cell_type": "code",
   "execution_count": 16,
   "metadata": {},
   "outputs": [
    {
     "data": {
      "text/plain": [
       "72"
      ]
     },
     "execution_count": 16,
     "metadata": {},
     "output_type": "execute_result"
    }
   ],
   "source": [
    "len(link_list)"
   ]
  },
  {
   "cell_type": "code",
   "execution_count": 17,
   "metadata": {},
   "outputs": [],
   "source": [
    "# 상세 페이지 이동 코드\n",
    "\n",
    "for link in link_list:\n",
    "    # 상세페이지로 이동\n",
    "    browser.get(link)\n"
   ]
  },
  {
   "cell_type": "code",
   "execution_count": 29,
   "metadata": {},
   "outputs": [
    {
     "data": {
      "text/plain": [
       "'트렌드 코리아 2025'"
      ]
     },
     "execution_count": 29,
     "metadata": {},
     "output_type": "execute_result"
    }
   ],
   "source": [
    "browser.get(link_list[0])\n",
    "\n",
    "title = browser.find_element(By.CLASS_NAME, 'gd_name').text\n",
    "author = browser.find_element(By.CLASS_NAME, 'gd_auth').text\n",
    "publisher = browser.find_element(By.CLASS_NAME, 'gd_pub').text\n",
    "publishing = browser.find_element(By.CLASS_NAME, 'gd_date').text\n",
    "rating = browser.find_element(By.CLASS_NAME, 'yes_b').text\n",
    "review = browser.find_element(By.CLASS_NAME, 'txC_blue').text\n",
    "sales = browser.find_element(By.CLASS_NAME, 'gd_sellNum').text.split(\" \")[2]\n",
    "price = browser.find_element(By.CLASS_NAME, 'yes_m').text[:-1]\n",
    "ranking = browser.find_element(By.CLASS_NAME, 'gd_best').text.split(\" | \")[0]\n",
    "ranking_weeks = browser.find_element(By.CLASS_NAME, 'gd_best').text.split(\" | \")[1]\n",
    "\n"
   ]
  },
  {
   "cell_type": "code",
   "execution_count": 43,
   "metadata": {},
   "outputs": [
    {
     "name": "stdout",
     "output_type": "stream",
     "text": [
      "********** 현재 1페이지 수집중입니다. **********\n",
      "['https://www.yes24.com/Product/Goods/133213071', 'https://www.yes24.com/Product/Goods/125557465', 'https://www.yes24.com/Product/Goods/133312039', 'https://www.yes24.com/Product/Goods/131930939', 'https://www.yes24.com/Product/Goods/133870359', 'https://www.yes24.com/Product/Goods/104663596', 'https://www.yes24.com/Product/Goods/133236068', 'https://www.yes24.com/Product/Goods/133308510', 'https://www.yes24.com/Product/Goods/133199014', 'https://www.yes24.com/Product/Goods/132560712', 'https://www.yes24.com/Product/Goods/134331993', 'https://www.yes24.com/Product/Goods/117014613', 'https://www.yes24.com/Product/Goods/128266166', 'https://www.yes24.com/Product/Goods/124539805', 'https://www.yes24.com/Product/Goods/8759796', 'https://www.yes24.com/Product/Goods/124999476', 'https://www.yes24.com/Product/Goods/133819718', 'https://www.yes24.com/Product/Goods/129094064', 'https://www.yes24.com/Product/Goods/132565140', 'https://www.yes24.com/Product/Goods/129602366', 'https://www.yes24.com/Product/Goods/133813184', 'https://www.yes24.com/Product/Goods/118322901', 'https://www.yes24.com/Product/Goods/124043812', 'https://www.yes24.com/Product/Goods/102457889']\n"
     ]
    }
   ],
   "source": [
    "# 리뷰 없는 도서 있기 때문에 아래 크롤링 진행 불가"
   ]
  },
  {
   "cell_type": "code",
   "execution_count": 18,
   "metadata": {},
   "outputs": [
    {
     "name": "stdout",
     "output_type": "stream",
     "text": [
      "full_text : 베스트 국내도서 1위 | 국내도서 1위 1주\n",
      "full_text : 베스트 국내도서 2위 | 국내도서 top20 1주\n",
      "full_text : 베스트 국내도서 3위 | 국내도서 top20 14주\n",
      "full_text : 베스트 국내도서 4위 | 국내도서 top20 1주\n",
      "full_text : 베스트 국내도서 5위 | 국내도서 top20 1주\n",
      "full_text : 베스트 국내도서 6위 | 국내도서 top20 1주\n",
      "full_text : 베스트 국내도서 7위 | 국내도서 top20 1주\n",
      "full_text : 베스트 국내도서 8위 | 국내도서 top20 1주\n",
      "full_text : 베스트 국내도서 9위 | 국내도서 1위 2주\n",
      "full_text : 베스트 국내도서 10위 | 국내도서 top20 1주\n",
      "full_text : 베스트 국내도서 11위 | 국내도서 top20 1주\n",
      "full_text : 베스트 국내도서 12위 | 국내도서 top20 1주\n",
      "full_text : 베스트 국내도서 13위 | 국내도서 1위 3주\n",
      "full_text : 베스트 국내도서 14위 | 국내도서 1위 3주\n",
      "full_text : 베스트 국내도서 15위 | 국내도서 top20 8주\n",
      "full_text : 베스트 국내도서 16위 | 국내도서 top20 1주\n",
      "full_text : 베스트 국내도서 17위 | 국내도서 top20 1주\n",
      "full_text : 베스트 국내도서 18위 | 국내도서 top20 1주\n",
      "full_text : 베스트 국내도서 19위 | 국내도서 top20 4주\n",
      "full_text : 베스트 국내도서 20위 | 국내도서 top100 1주\n",
      "full_text : 베스트 국내도서 21위 | 국내도서 top100 1주\n",
      "full_text : 베스트 국내도서 22위 | 국내도서 top20 9주\n",
      "full_text : 베스트 국내도서 23위 | 국내도서 top20 8주\n",
      "full_text : 베스트 국내도서 24위 | 국내도서 top20 2주\n",
      "full_text : 베스트 국내도서 25위 | 국내도서 top20 2주\n",
      "full_text : 베스트 국내도서 26위 | 국내도서 1위 2주\n",
      "full_text : 베스트 국내도서 27위 | 국내도서 1위 22주\n",
      "full_text : 베스트 국내도서 28위 | 국내도서 top20 1주\n",
      "full_text : 베스트 국내도서 29위 | 국내도서 top100 2주\n",
      "full_text : 베스트 국내도서 30위 | 국내도서 top100 1주\n",
      "full_text : 베스트 국내도서 31위 | 국내도서 1위 6주\n",
      "full_text : 베스트 국내도서 32위 | 국내도서 top20 3주\n",
      "full_text : 베스트 국내도서 33위 | 국내도서 top100 1주\n",
      "full_text : 베스트 국내도서 34위 | 국내도서 top20 5주\n",
      "full_text : 베스트 국내도서 35위 | 국내도서 top100 1주\n",
      "full_text : 베스트 국내도서 36위 | 국내도서 top20 1주\n",
      "full_text : 베스트 국내도서 37위 | 국내도서 top20 2주\n",
      "full_text : 베스트 국내도서 38위 | 국내도서 top20 33주\n",
      "full_text : 베스트 국내도서 39위 | 국내도서 1위 12주\n",
      "full_text : 베스트 국내도서 40위 | 국내도서 top20 6주\n",
      "full_text : 베스트 국내도서 41위 | 국내도서 top100 6주\n",
      "full_text : 베스트 국내도서 42위 | 국내도서 top20 28주\n",
      "full_text : 베스트 국내도서 43위 | 국내도서 top100 1주\n",
      "full_text : 베스트 국내도서 44위 | 국내도서 top100 3주\n",
      "full_text : 베스트 국내도서 45위 | 국내도서 top20 8주\n",
      "full_text : 베스트 국내도서 46위 | 국내도서 1위 2주\n",
      "full_text : 베스트 국내도서 47위 | 국내도서 top20 6주\n",
      "full_text : 베스트 국내도서 48위 | 국내도서 top20 22주\n",
      "full_text : 베스트 국내도서 49위 | 국내도서 top20 30주\n",
      "full_text : 베스트 국내도서 50위 | 국내도서 top20 2주\n",
      "full_text : 베스트 국내도서 51위 | 국내도서 top20 4주\n",
      "full_text : 베스트 국내도서 52위 | 국내도서 top100 2주\n",
      "full_text : 베스트 국내도서 53위 | 국내도서 top20 16주\n",
      "full_text : 베스트 국내도서 54위 | 국내도서 top100 1주\n",
      "full_text : 베스트 국내도서 55위 | 국내도서 top100 2주\n",
      "full_text : 베스트 국내도서 56위 | 국내도서 top100 2주\n",
      "full_text : 베스트 국내도서 57위 | 국내도서 top100 10주\n",
      "full_text : 베스트 국내도서 58위 | 국내도서 top100 2주\n",
      "full_text : 베스트 국내도서 59위 | 국내도서 top100 2주\n",
      "full_text : 베스트 국내도서 60위 | 국내도서 top100 65주\n",
      "full_text : 베스트 국내도서 61위 | 국내도서 top100 2주\n",
      "full_text : 베스트 국내도서 62위 | 국내도서 top100 2주\n",
      "full_text : 베스트 국내도서 63위 | 국내도서 top100 1주\n",
      "full_text : 베스트 국내도서 64위 | 국내도서 top20 7주\n",
      "full_text : 베스트 국내도서 65위 | 국내도서 top20 1주\n",
      "full_text : 베스트 국내도서 66위 | 국내도서 top20 2주\n",
      "full_text : 베스트 국내도서 67위 | 국내도서 top100 2주\n",
      "full_text : 베스트 국내도서 68위 | 국내도서 top20 4주\n",
      "full_text : 베스트 국내도서 69위 | 국내도서 top100 2주\n",
      "full_text : 베스트 국내도서 70위 | 국내도서 top20 3주\n",
      "full_text : 베스트 국내도서 71위 | 국내도서 top100 36주\n",
      "full_text : 베스트 국내도서 72위 | 국내도서 top100 1주\n"
     ]
    }
   ],
   "source": [
    "# 데이터 베이스 연동 후 -> 수집한 데이터를 DB에 저장 (csv)\n",
    "# SQL 워크벤치 불러온 뒤 테이블 생성\n",
    "\n",
    "# Terminal에서 pip install pymysql\n",
    "import pymysql\n",
    "import time\n",
    "import re\n",
    "from datetime import datetime\n",
    "\n",
    "conn = pymysql.connect(\n",
    "    host = 'localhost',\n",
    "    user = 'root',\n",
    "    password = 'class-password',\n",
    "    db = 'yes24',\n",
    "    charset = 'utf8mb4',\n",
    "    cursorclass = pymysql.cursors.DictCursor\n",
    ")\n",
    "\n",
    "\n",
    "with conn.cursor() as cur:\n",
    "    for link in link_list:\n",
    "        browser.get(link)\n",
    "\n",
    "        title = browser.find_element(By.CLASS_NAME, 'gd_name').text\n",
    "        author = browser.find_element(By.CLASS_NAME, 'gd_auth').text\n",
    "        publisher = browser.find_element(By.CLASS_NAME, 'gd_pub').text\n",
    "\n",
    "        # OperationalError: (1292, \"Incorrect date value: '2024년 09월 25일' for column 'publishing' at row 1\")\n",
    "        # 2024년 9월 25일 -> 2024-09-25 날짜 격식 수정\n",
    "        publishing = browser.find_element(By.CLASS_NAME, 'gd_date').text\n",
    "        \n",
    "        match = re.search(r'(\\d+)년 (\\d+)월 (\\d+)일', publishing)\n",
    "\n",
    "        if match:\n",
    "            year, month, day = match.groups()\n",
    "            data_obj = datetime(int(year),int(month), int(day))\n",
    "            publishing = data_obj.strftime(\"%Y-%m-%d\")\n",
    "        else:\n",
    "            publishing = \"2024-01-01\"\n",
    "\n",
    "        rating = browser.find_element(By.CLASS_NAME, 'yes_b').text\n",
    "\n",
    "        review = browser.find_element(By.CLASS_NAME, 'txC_blue').text\n",
    "\n",
    "        if review == \"예약판매\" or \"첫번째 리뷰어가 되어주세요.\":\n",
    "            review = \"0\"\n",
    "        else:\n",
    "            review = int(review.replace(\",\", \"\"))  # \",\" 콤마 삭제\n",
    "\n",
    "        sales = browser.find_element(By.CLASS_NAME, 'gd_sellNum').text.split(\" \")[2]\n",
    "        sales = int(sales.replace(\",\", \"\"))  # \",\" 콤마 삭제\n",
    "\n",
    "        price = browser.find_element(By.CLASS_NAME, 'yes_m').text[:-1]\n",
    "        price = int(price.replace(\",\", \"\"))  # \",\" 콤마 삭제\n",
    "\n",
    "        full_text = browser.find_element(By.CLASS_NAME, 'gd_best').text\n",
    "        print('full_text :', full_text) # 베스트만 들어옴\n",
    "        parts = full_text.split(\" | \")\n",
    "\n",
    "        if len(parts) == 1:\n",
    "            ranking = 0\n",
    "            ranking_weeks = 0\n",
    "        else:\n",
    "            try:\n",
    "                ranking_part = parts[0]\n",
    "                ranking = ''.join(filter(str.isdigit, ranking_part))   # 숫자만 추출\n",
    "            except:\n",
    "                ranking = 0\n",
    "\n",
    "            try:\n",
    "                ranking_weeks_part = parts[1]\n",
    "                ranking_weeks = ''.join(filter(str.isdigit, ranking_weeks_part.split()[-1]))   # 숫자만 추출\n",
    "            except:\n",
    "                ranking_weeks = 0\n",
    "\n",
    "\n",
    "        # 위 try 문구로 아래 두줄 대체\n",
    "        # ranking = browser.find_element(By.CLASS_NAME, 'gd_best').text.split(\" | \")[1].split(\" \")[1][:-1]\n",
    "        # ranking_weeks = browser.find_element(By.CLASS_NAME, 'gd_best').text.split(\" | \")[1].split(\" \")[2][:-1]\n",
    "        \n",
    "\n",
    "        sql = \"\"\"INSERT INTO Books(\n",
    "            title, author, publisher, publishing, rating, review, sales, price, ranking, ranking_weeks\n",
    "            )\n",
    "            VALUES(\n",
    "            %s, %s, %s, %s, %s, %s, %s, %s, %s, %s\n",
    "            )\n",
    "            \"\"\"\n",
    "    \n",
    "        cur.execute(sql, (title, author, publisher, publishing, rating, review, sales, price, ranking, ranking_weeks))\n",
    "\n",
    "    \n",
    "\n",
    "\n",
    "\n",
    "\n"
   ]
  },
  {
   "cell_type": "code",
   "execution_count": 19,
   "metadata": {},
   "outputs": [
    {
     "data": {
      "text/plain": [
       "('봄의 폭풍과 몬스터 5',\n",
       " '미츠바치 미유키 글그림',\n",
       " '학산문화사',\n",
       " '2024년 10월 24일',\n",
       " '회원리뷰(1건)',\n",
       " '1',\n",
       " '16,800',\n",
       " '6,000',\n",
       " 'top10',\n",
       " '1')"
      ]
     },
     "execution_count": 19,
     "metadata": {},
     "output_type": "execute_result"
    }
   ],
   "source": [
    "# 상세 페이지 이동 후 데이터 크롤링\n",
    "\n",
    "title = browser.find_element(By.CLASS_NAME, 'gd_name').text\n",
    "author = browser.find_element(By.CLASS_NAME, 'gd_auth').text\n",
    "publisher = browser.find_element(By.CLASS_NAME, 'gd_pub').text\n",
    "publishing = browser.find_element(By.CLASS_NAME, 'gd_date').text\n",
    "rating = browser.find_element(By.CLASS_NAME, 'gd_reviewCount').text\n",
    "review = browser.find_element(By.CLASS_NAME, 'txC_blue').text\n",
    "sales = browser.find_element(By.CLASS_NAME, 'gd_sellNum').text.split(\" \")[2]\n",
    "price = browser.find_element(By.CLASS_NAME, 'yes_m').text[:-1]\n",
    "ranking = browser.find_element(By.CLASS_NAME, 'gd_best').text.split(\" | \")[1].split(\" \")[1][:-1]\n",
    "ranking_weeks = browser.find_element(By.CLASS_NAME, 'gd_best').text.split(\" | \")[1].split(\" \")[2][:-1]\n",
    "\n",
    "title, author, publisher, publishing, rating, review, sales, price, ranking, ranking_weeks"
   ]
  },
  {
   "cell_type": "code",
   "execution_count": null,
   "metadata": {},
   "outputs": [],
   "source": []
  }
 ],
 "metadata": {
  "kernelspec": {
   "display_name": "Python 3",
   "language": "python",
   "name": "python3"
  },
  "language_info": {
   "codemirror_mode": {
    "name": "ipython",
    "version": 3
   },
   "file_extension": ".py",
   "mimetype": "text/x-python",
   "name": "python",
   "nbconvert_exporter": "python",
   "pygments_lexer": "ipython3",
   "version": "3.9.6"
  }
 },
 "nbformat": 4,
 "nbformat_minor": 2
}
