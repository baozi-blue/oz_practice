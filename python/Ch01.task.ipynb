{
 "cells": [
  {
   "cell_type": "markdown",
   "metadata": {},
   "source": [
    "<span style=\"font-size:100%\">\n",
    "\n",
    "수업은 모두 열심히 들으셨나요?\n",
    "\n",
    "간혹 강의에서 언급되지 않은 내용이 문제로 나올 수 있습니다.<br>\n",
    "그럴땐 강의 내용 외 문제는 구글링을 통해 해결해주세요<br></span>\n",
    "<span style=\"font-size:80%\">\n",
    "(구글링 또한 개발자가 갖쳐야할 역량 중에 하나랍니다 😊)\n",
    "</span>\n",
    "\n",
    "---"
   ]
  },
  {
   "cell_type": "markdown",
   "metadata": {},
   "source": [
    "<span style=\"font-size:80%\">[문제1]<br><br></span>\n",
    "```인터프리트 방식에 대해 설명하고 2개 이상의 장점을 설명해주세요```"
   ]
  },
  {
   "cell_type": "markdown",
   "metadata": {},
   "source": [
    "<span style=\"color:red\">답변</span>"
   ]
  },
  {
   "cell_type": "markdown",
   "metadata": {},
   "source": [
    "인터프리트 방식은 프로그램을 한 줄씩 읽어 들이면서 즉시 실행하는 방식입니다. \n",
    "인터프리트 방식은 소스 코드를 직접 해석하고 실행하므로, 컴파일 과정이 필요하지 않습니다. 이는 개발 과정에서 빠른 피드백을 받을 수 있다는 장점이 있습니다."
   ]
  },
  {
   "cell_type": "markdown",
   "metadata": {},
   "source": [
    "---"
   ]
  },
  {
   "cell_type": "markdown",
   "metadata": {},
   "source": [
    "<span style=\"font-size:80%\">[문제2]<br><br></span>\n",
    "```동적 타입 방식의 장점과 단점을 간략히 설명해주세요```"
   ]
  },
  {
   "cell_type": "markdown",
   "metadata": {},
   "source": [
    "<span style=\"color:red\">답변</span>"
   ]
  },
  {
   "cell_type": "markdown",
   "metadata": {},
   "source": [
    "장점: 빠른 프로토타이핑과 스크랩팅 가능, 타임 선언이 간결하고 코드의 양을 줄일 수 있음, 타입 변환과 관련괸 유연성 높아서 다양한 타입의 데이터를 쉽게 처리 가능.\n",
    "단점: 런타임 실행 도중에 예상치 못한 타입이 들어와 타입 에러 발생할 수 있음, 런타임 시 에러를 확인할 수 있기 때문에 코드가 길고 복잡해질 경우 타입 에러를 찾기 어려워짐."
   ]
  },
  {
   "cell_type": "markdown",
   "metadata": {},
   "source": [
    "---"
   ]
  },
  {
   "cell_type": "markdown",
   "metadata": {},
   "source": [
    "<span style=\"font-size:80%\">[문제3]<br><br></span>\n",
    "```Python으로 정적타입 방식의 코드를 작성할 수 있는 방법을 구글링을 통해 검색 후 설명해주세요```"
   ]
  },
  {
   "cell_type": "markdown",
   "metadata": {},
   "source": [
    "<span style=\"color:red\">답변</span>"
   ]
  },
  {
   "cell_type": "markdown",
   "metadata": {},
   "source": [
    "파이썬에서도 변수와 함수의 입출력 타입을 먼저 선언하는 정적 타입 방식을 사용할 수 있습니다.\n",
    "\n",
    "1. 변수 선언\n",
    "variable_name: type\n",
    "\n",
    "2. 변수 생성 후 초기값 할당\n",
    "my_string: str = \"My String Value\"\n",
    "\n",
    "3. 함수 입출력 시 선언\n",
    "def function_name(parameter1: type) -> return_type:\n"
   ]
  },
  {
   "cell_type": "markdown",
   "metadata": {},
   "source": [
    "---"
   ]
  },
  {
   "cell_type": "markdown",
   "metadata": {},
   "source": [
    "<span style=\"font-size:80%\">[문제4]<br><br></span>\n",
    "```프로세스와 스레드의 차이점을 설명해주세요```"
   ]
  },
  {
   "cell_type": "markdown",
   "metadata": {},
   "source": [
    "<span style=\"color:red\">답변</span>"
   ]
  },
  {
   "cell_type": "markdown",
   "metadata": {},
   "source": [
    "프로그램 -> 프로세스 -> 스레드\n",
    "\n",
    "프로세스: 운영체제로부터 자원을 할당받은 작업의 단위 (작업중인 프로그램)\n",
    "스레드: 프로세스가 할당받은 자원을 이용하는 실행 흐름의 단위 (프로세스의 코드에 정의된 절차에 따라 실행되는 특정한 수행 경로다)\n",
    "\n",
    "\n"
   ]
  },
  {
   "cell_type": "markdown",
   "metadata": {},
   "source": [
    "---"
   ]
  },
  {
   "cell_type": "markdown",
   "metadata": {},
   "source": [
    "<span style=\"font-size:80%\">[문제5]<br><br></span>\n",
    "```Python 2버전대와 3버전대의 차이를 성명해주세요```"
   ]
  },
  {
   "cell_type": "markdown",
   "metadata": {},
   "source": [
    "<span style=\"color:red\">답변</span>"
   ]
  },
  {
   "cell_type": "markdown",
   "metadata": {},
   "source": [
    "1. Python 2와 Python 3는 라이브러리에서 차이가 있는데, 호환되지 않는 경우도 더러 존재합니다.\n",
    "2. Python 3가 Unicode를 처리함에 더욱 편리합니다.\n",
    "3. Python 3가 향상된 정수 나눗셈 기능을 가지고 있습니다. Python 2에서는 정수에 나눗셈을 하면 가장 가까운 정수까지 반올림을 합니다. 소수점이 있으면 반올림하지 않습니다. Python 3에서는 소수점 뒤에 0을 붙일 걱정할 필요없게 반올림 해주지 않습니다.\n",
    "4. 두 버전의 print 명령어 문법이 다릅니다. print => print()\n"
   ]
  },
  {
   "cell_type": "markdown",
   "metadata": {},
   "source": [
    "---"
   ]
  },
  {
   "cell_type": "markdown",
   "metadata": {},
   "source": [
    "<span style=\"font-size:80%\">[문제6]<br><br></span>\n",
    "```Python에서 메모리 관리는 어떻게 이루어지는지 설명해주세요```"
   ]
  },
  {
   "cell_type": "markdown",
   "metadata": {},
   "source": [
    "<span style=\"color:red\">답변</span>"
   ]
  },
  {
   "cell_type": "markdown",
   "metadata": {},
   "source": [
    "파이썬은 자동으로 메모리를 관리하는 고급 프로그래밍 언어입니다. \n",
    "개발자가 직접 메모리 할당 및 해제를 관리하지 않고도 메모리 관리를 자동으로 처리할 수 있습니다.\n",
    "파이썬에서 메모리 관리는 참조 계수 referencecounting 기반으로 이루어집니다. \n",
    "이는 객체가 생성될 때마다 그 객체를 참조하는 변수의 개수를 추적하는 방식입니다. \n",
    "객체를 참조하는 변수의 개수가 0이되면, 해당 객체의 메모리는 자동으로 해제됩니다."
   ]
  }
 ],
 "metadata": {
  "language_info": {
   "name": "python"
  }
 },
 "nbformat": 4,
 "nbformat_minor": 2
}
