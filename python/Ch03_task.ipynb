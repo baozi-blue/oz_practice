{
 "cells": [
  {
   "cell_type": "markdown",
   "metadata": {},
   "source": [
    "<span style=\"font-size:100%\">\n",
    "\n",
    "수업은 모두 열심히 들으셨나요?\n",
    "\n",
    "간혹 강의에서 언급되지 않은 내용이 문제로 나올 수 있습니다.<br>\n",
    "그럴땐 강의 내용 외 문제는 구글링을 통해 해결해주세요<br></span>\n",
    "<span style=\"font-size:80%\">\n",
    "(구글링 또한 개발자가 갖쳐야할 역량 중에 하나랍니다 😊)\n",
    "</span>\n",
    "\n",
    "---"
   ]
  },
  {
   "cell_type": "markdown",
   "metadata": {},
   "source": [
    "<span style=\"font-size:80%\">[문제1]<br><br></span>\n",
    "```주로 작성 중인 코드의 끝을 알리는 기호로 사용되며 파이썬에서 한 줄에 작성된 서로 다른 코드를 구분 지을 때 사용할 수 있는 기호를 골라주세요```\n",
    "\n",
    "1. ' , ' (쉼표)\n",
    "2. ' + ' (더하기 기호)\n",
    "3. ' ; ' (세미콜론)\n",
    "4. ' / ' (슬래시)"
   ]
  },
  {
   "cell_type": "markdown",
   "metadata": {},
   "source": [
    "<span style=\"color:red\">답변</span> :"
   ]
  },
  {
   "cell_type": "markdown",
   "metadata": {},
   "source": []
  },
  {
   "cell_type": "markdown",
   "metadata": {},
   "source": [
    "; (세미콜론)"
   ]
  },
  {
   "cell_type": "markdown",
   "metadata": {},
   "source": [
    "<span style=\"font-size:80%\">[문제2]<br><br></span>\n",
    "```Python의 PEP 8은 무엇인지 설명하고 PEP 8의 핵심적인 규칙을 1개 이상을 설명해주세요```"
   ]
  },
  {
   "cell_type": "markdown",
   "metadata": {},
   "source": [
    "<span style=\"color:red\">답변</span>"
   ]
  },
  {
   "cell_type": "markdown",
   "metadata": {},
   "source": [
    "PEP 8 – Python 코딩 스타일가이드\n",
    "\n",
    "1. 들여쓰기\n",
    "각 들여쓰기 단계마다 4개의 스페이스를 사용\n",
    "연속적인 라인은 괄호들((),{},[]) 안의 원소들을 수직으로 정렬하거나, hanging indent를 적용하여 정렬해야 한다\n",
    "if문의 경우 \"if (condition)\"형태로 시작하면 줄을 바꿀때 자연스럽게 4스페이스 들여쓰기가 되지만 if문 내부의 코드와 구분이 어려워 질 수 있다.\n",
    "괄호를 닫을때 괄호안의 첫 원소의 위치에 맞춰서 or 구문의 첫 문자를 기준으로 닫을 수 있다.\n",
    "\n",
    "2. tab or space\n",
    "기본적으로 4스페이스가 권장됨\n",
    "단 이미 탭으로 코드가 작성되었다면 일관성을 맞춰서 탭을 사용\n",
    "단 두 방법의 혼용은 안됨.\n",
    "\n",
    "3. 한 줄의 최대 길이\n",
    "모든 줄은 한줄 최대 79개의 문자를 권장. 긴 텍스트 블록이나 주석은 최대 72문자를 권장.\n",
    "긴 줄은 백슬래시( \\ )를 사용하여 명시적으로 구분해줄 수 있다. \n",
    "3.10 이전의 python에서는 with가 implicit continuation이 적용되지 않아 필수적으로 사용해야 한다.\n"
   ]
  },
  {
   "cell_type": "markdown",
   "metadata": {},
   "source": [
    "----"
   ]
  },
  {
   "cell_type": "markdown",
   "metadata": {},
   "source": [
    "<span style=\"font-size:80%\">[문제3]<br><br></span>\n",
    "```Python에서 \"#\"이 의마하는 것은 무엇인지 설명해주세요```"
   ]
  },
  {
   "cell_type": "markdown",
   "metadata": {},
   "source": [
    "<span style=\"color:red\">답변</span>"
   ]
  },
  {
   "cell_type": "markdown",
   "metadata": {},
   "source": [
    "# 타이틀 / 주석처리\n"
   ]
  },
  {
   "cell_type": "markdown",
   "metadata": {},
   "source": [
    "----"
   ]
  },
  {
   "cell_type": "markdown",
   "metadata": {},
   "source": [
    "<span style=\"font-size:80%\">[문제4]<br><br></span>\n",
    "```Python의 들여쓰기 장점과 기능에 대해 설명해주세요```"
   ]
  },
  {
   "cell_type": "markdown",
   "metadata": {},
   "source": [
    "<span style=\"color:red\">답변</span>"
   ]
  },
  {
   "cell_type": "markdown",
   "metadata": {},
   "source": [
    "#  ---- 장점 ----  \n",
    "1. 가독성 향상:\n",
    "들여쓰기는 코드의 가독성을 향상시킨다. 코드 블록이 시작하고 끝나는 위치를 명확하게 보여줌으로써 어떤 부분이 어떤 블록에 속하는지 쉽게 이해할 수 있다.\n",
    "\n",
    "2. 코드 일관성:\n",
    "모든 Python 코드에서 일관된 들여쓰기 규칙을 사용해야 한다.\n",
    "이는 코드베이스 전체에서 일관성 있는 스타일을 유지하고 코드를 더 쉽게 유지 보수할 수 있게 한다.\n",
    "\n",
    "3. 블록 구분:\n",
    "들여쓰기를 사용하면 코드 블록의 시작과 끝이 명시적으로 표시되므로 중괄호를 사용하는 언어에서 발생하는 오류 중 일부를 방지할 수 있다.\n",
    "\n",
    "4. 코드 블록 강제:\n",
    "들여쓰기는 코드 블록을 강제하므로 잘못된 코드 구조를 방지한다.\n",
    "코드 블록이 끝나는 위치를 표현하기 위해 중괄호를 사용하는 것보다 들여쓰기를 사용하는 것이 간단하고 실수를 줄일 수 있다.\n",
    "\n",
    "\n",
    "# ---- 기능 ----\n",
    "1. 가독성 증가\n",
    "2. 문서화의 일부 (직관적이고 간결한 문법)\n"
   ]
  },
  {
   "cell_type": "markdown",
   "metadata": {},
   "source": [
    "----"
   ]
  },
  {
   "cell_type": "markdown",
   "metadata": {},
   "source": [
    "<span style=\"font-size:80%\">[문제5]<br><br></span>\n",
    "```print( )문의 기능 및 특징에 대해 설명해주세요```"
   ]
  },
  {
   "cell_type": "markdown",
   "metadata": {},
   "source": [
    "<span style=\"color:red\">답변</span>"
   ]
  },
  {
   "cell_type": "code",
   "execution_count": null,
   "metadata": {
    "vscode": {
     "languageId": "plaintext"
    }
   },
   "outputs": [],
   "source": [
    "print() 함수는 파이썬 내장함수 중 하나로 특별히 다른 모듈을 활용하지 않아도 사용할 수 있는 함수이다. \n",
    "print는 자료형의 개수의 제한 없이 출력할 수 있으며 여러 종류의 자료형을 같이 출력할 수 있다."
   ]
  },
  {
   "cell_type": "markdown",
   "metadata": {},
   "source": []
  }
 ],
 "metadata": {
  "language_info": {
   "name": "python"
  }
 },
 "nbformat": 4,
 "nbformat_minor": 2
}
