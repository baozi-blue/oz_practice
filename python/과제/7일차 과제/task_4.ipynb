{
 "cells": [
  {
   "cell_type": "markdown",
   "metadata": {},
   "source": [
    "사용자 정의 예외 NegativeNumberError를 생성하고, 사용자로부터 숫자를 입력받아 음수일 경우 NegativeNumberError를 발생시키는 프로그램을 작성하세요. \n",
    "\n",
    "- 예외 처리 구문을 사용하여 음수 입력 시 \"양수를 입력해주세요.\"라는 메시지를 출력"
   ]
  },
  {
   "cell_type": "code",
   "execution_count": 8,
   "metadata": {},
   "outputs": [
    {
     "name": "stdout",
     "output_type": "stream",
     "text": [
      "-1을 입력했습니다.\n",
      "양수를 입력해주세요. 음수는 입력할 수 없습니다.\n"
     ]
    }
   ],
   "source": [
    "class NegativeNumberError(Exception):    # 음수 입력 시 발생하는 예외\n",
    "    pass\n",
    "\n",
    "try:\n",
    "    num1 = int(input(\"숫자를 입력하세요: \"))\n",
    "    if num1 < 0:\n",
    "        print(f\"{num1}을 입력했습니다.\")\n",
    "        raise NegativeNumberError(\"음수는 입력할 수 없습니다.\")\n",
    "except NegativeNumberError as e:\n",
    "    print(\"양수를 입력해주세요.\", e)\n"
   ]
  }
 ],
 "metadata": {
  "kernelspec": {
   "display_name": "Python 3",
   "language": "python",
   "name": "python3"
  },
  "language_info": {
   "codemirror_mode": {
    "name": "ipython",
    "version": 3
   },
   "file_extension": ".py",
   "mimetype": "text/x-python",
   "name": "python",
   "nbconvert_exporter": "python",
   "pygments_lexer": "ipython3",
   "version": "3.9.6"
  }
 },
 "nbformat": 4,
 "nbformat_minor": 2
}
